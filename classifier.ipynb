{
 "cells": [
  {
   "cell_type": "code",
   "execution_count": 397,
   "metadata": {},
   "outputs": [
    {
     "name": "stdout",
     "output_type": "stream",
     "text": [
      "modules imported\n"
     ]
    }
   ],
   "source": [
    "import matplotlib.pyplot as plt          \n",
    "from pprint import pprint                # human-readable data object printing (https://docs.python.org/3.5/library/pprint.html)\n",
    "import numpy as np # linear algebra\n",
    "import pandas as pd\n",
    "import seaborn as sns\n",
    "import matplotlib.pyplot as plt\n",
    "%matplotlib inline\n",
    "from sklearn.preprocessing import RobustScaler\n",
    "from sklearn.decomposition import PCA\n",
    "from sklearn.metrics import classification_report, confusion_matrix\n",
    "from sklearn.model_selection import train_test_split\n",
    "from sklearn.linear_model import LogisticRegression\n",
    "from sklearn.neighbors import KNeighborsClassifier\n",
    "from sklearn.svm import SVC\n",
    "from sklearn.tree import DecisionTreeClassifier\n",
    "from sklearn.ensemble import RandomForestClassifier, AdaBoostClassifier, GradientBoostingClassifier\n",
    "print('modules imported')"
   ]
  },
  {
   "cell_type": "code",
   "execution_count": 398,
   "metadata": {},
   "outputs": [],
   "source": [
    "df1=pd.read_csv('D:/Documents/diplom/data/galaxy.csv')\n",
    "df2=pd.read_csv('D:/Documents/diplom/data/star.csv')\n",
    "df3=pd.read_csv('D:/Documents/diplom/data/qso.csv')\n",
    "df=pd.concat([df1, df2, df3], ignore_index=True)"
   ]
  },
  {
   "cell_type": "code",
   "execution_count": 399,
   "metadata": {},
   "outputs": [],
   "source": [
    "df1=df1.dropna()\n",
    "df2=df2.dropna()\n",
    "df3=df3.dropna()"
   ]
  },
  {
   "cell_type": "code",
   "execution_count": null,
   "metadata": {},
   "outputs": [],
   "source": []
  },
  {
   "cell_type": "code",
   "execution_count": 400,
   "metadata": {},
   "outputs": [],
   "source": [
    "labels = {'STAR':1, 'GALAXY':2, 'QSO':3}\n",
    "df1.replace({'class':labels}, inplace = True)\n",
    "df2.replace({'class':labels}, inplace = True)\n",
    "df3.replace({'class':labels}, inplace = True)"
   ]
  },
  {
   "cell_type": "code",
   "execution_count": 401,
   "metadata": {},
   "outputs": [],
   "source": [
    "df11=df1[(df1['psfMag_i']>=17) & ( df1['psfMag_i']<17.5)]\n",
    "df11=df11.sample(3000)\n",
    "df12=df1[(df1['psfMag_i']>=17.5) & ( df1['psfMag_i']<18)]\n",
    "df12=df12.sample(3000)\n",
    "df13=df1[(df1['psfMag_i']>=18) & ( df1['psfMag_i']<18.5)]\n",
    "df13=df13.sample(3000)\n",
    "df14=df1[(df1['psfMag_i']>=18.5) & ( df1['psfMag_i']<19)]\n",
    "df14=df14.sample(3000)\n",
    "df15=df1[(df1['psfMag_i']>=19) & ( df1['psfMag_i']<19.5)]\n",
    "df15=df15.sample(3000)\n",
    "df16=df1[(df1['psfMag_i']>=19.5) & ( df1['psfMag_i']<20)]\n",
    "df16=df16.sample(3000)\n",
    "df17=df1[(df1['psfMag_i']>=20) & ( df1['psfMag_i']<20.5)]\n",
    "df17=df17.sample(3000)\n",
    "df18=df1[(df1['psfMag_i']>=20.5) & ( df1['psfMag_i']<21)]\n",
    "df18=df18.sample(3000)"
   ]
  },
  {
   "cell_type": "code",
   "execution_count": 402,
   "metadata": {},
   "outputs": [
    {
     "data": {
      "text/html": [
       "<div>\n",
       "<style scoped>\n",
       "    .dataframe tbody tr th:only-of-type {\n",
       "        vertical-align: middle;\n",
       "    }\n",
       "\n",
       "    .dataframe tbody tr th {\n",
       "        vertical-align: top;\n",
       "    }\n",
       "\n",
       "    .dataframe thead th {\n",
       "        text-align: right;\n",
       "    }\n",
       "</style>\n",
       "<table border=\"1\" class=\"dataframe\">\n",
       "  <thead>\n",
       "    <tr style=\"text-align: right;\">\n",
       "      <th></th>\n",
       "      <th>specObjID</th>\n",
       "      <th>mjd</th>\n",
       "      <th>z</th>\n",
       "      <th>zErr</th>\n",
       "      <th>class</th>\n",
       "      <th>subClass</th>\n",
       "      <th>ra</th>\n",
       "      <th>dec</th>\n",
       "      <th>objID</th>\n",
       "      <th>obj</th>\n",
       "      <th>psfMag_u</th>\n",
       "      <th>psfMag_g</th>\n",
       "      <th>psfMag_r</th>\n",
       "      <th>psfMag_i</th>\n",
       "      <th>psfMag_z</th>\n",
       "      <th>cModelMag_u</th>\n",
       "      <th>cModelMag_g</th>\n",
       "      <th>cModelMag_r</th>\n",
       "      <th>cModelMag_i</th>\n",
       "      <th>cModelMag_z</th>\n",
       "    </tr>\n",
       "  </thead>\n",
       "  <tbody>\n",
       "    <tr>\n",
       "      <th>0</th>\n",
       "      <td>2.492854e+18</td>\n",
       "      <td>53794</td>\n",
       "      <td>0.046830</td>\n",
       "      <td>0.000013</td>\n",
       "      <td>2</td>\n",
       "      <td>STARFORMING</td>\n",
       "      <td>168.226340</td>\n",
       "      <td>28.000764</td>\n",
       "      <td>1.237667e+18</td>\n",
       "      <td>175.0</td>\n",
       "      <td>19.31826</td>\n",
       "      <td>18.07397</td>\n",
       "      <td>17.43640</td>\n",
       "      <td>17.13822</td>\n",
       "      <td>16.83783</td>\n",
       "      <td>16.90090</td>\n",
       "      <td>15.42760</td>\n",
       "      <td>14.87280</td>\n",
       "      <td>14.54233</td>\n",
       "      <td>14.21699</td>\n",
       "    </tr>\n",
       "    <tr>\n",
       "      <th>1</th>\n",
       "      <td>2.931998e+18</td>\n",
       "      <td>54484</td>\n",
       "      <td>0.107388</td>\n",
       "      <td>0.000022</td>\n",
       "      <td>2</td>\n",
       "      <td>BROADLINE</td>\n",
       "      <td>199.100930</td>\n",
       "      <td>17.810786</td>\n",
       "      <td>1.237669e+18</td>\n",
       "      <td>533.0</td>\n",
       "      <td>20.96210</td>\n",
       "      <td>19.03283</td>\n",
       "      <td>17.91157</td>\n",
       "      <td>17.41227</td>\n",
       "      <td>17.10114</td>\n",
       "      <td>19.53960</td>\n",
       "      <td>17.81668</td>\n",
       "      <td>16.72935</td>\n",
       "      <td>16.26477</td>\n",
       "      <td>15.94412</td>\n",
       "    </tr>\n",
       "    <tr>\n",
       "      <th>2</th>\n",
       "      <td>7.062913e+18</td>\n",
       "      <td>56243</td>\n",
       "      <td>0.110434</td>\n",
       "      <td>0.000018</td>\n",
       "      <td>2</td>\n",
       "      <td>STARFORMING</td>\n",
       "      <td>30.509623</td>\n",
       "      <td>29.668762</td>\n",
       "      <td>1.237680e+18</td>\n",
       "      <td>227.0</td>\n",
       "      <td>20.56769</td>\n",
       "      <td>18.84073</td>\n",
       "      <td>17.86699</td>\n",
       "      <td>17.48035</td>\n",
       "      <td>17.12382</td>\n",
       "      <td>18.94389</td>\n",
       "      <td>17.42863</td>\n",
       "      <td>16.68942</td>\n",
       "      <td>16.29349</td>\n",
       "      <td>15.99386</td>\n",
       "    </tr>\n",
       "    <tr>\n",
       "      <th>3</th>\n",
       "      <td>2.643705e+18</td>\n",
       "      <td>53757</td>\n",
       "      <td>0.094012</td>\n",
       "      <td>0.000017</td>\n",
       "      <td>2</td>\n",
       "      <td>AGN</td>\n",
       "      <td>151.738140</td>\n",
       "      <td>29.444674</td>\n",
       "      <td>1.237665e+18</td>\n",
       "      <td>241.0</td>\n",
       "      <td>20.20121</td>\n",
       "      <td>18.30848</td>\n",
       "      <td>17.40326</td>\n",
       "      <td>17.01107</td>\n",
       "      <td>16.64134</td>\n",
       "      <td>18.64323</td>\n",
       "      <td>16.86745</td>\n",
       "      <td>15.92572</td>\n",
       "      <td>15.53301</td>\n",
       "      <td>15.31248</td>\n",
       "    </tr>\n",
       "    <tr>\n",
       "      <th>4</th>\n",
       "      <td>3.277713e+17</td>\n",
       "      <td>51928</td>\n",
       "      <td>0.081368</td>\n",
       "      <td>0.000016</td>\n",
       "      <td>2</td>\n",
       "      <td>BROADLINE</td>\n",
       "      <td>191.056960</td>\n",
       "      <td>0.701555</td>\n",
       "      <td>1.237671e+18</td>\n",
       "      <td>215.0</td>\n",
       "      <td>20.50037</td>\n",
       "      <td>18.87215</td>\n",
       "      <td>17.78273</td>\n",
       "      <td>17.43141</td>\n",
       "      <td>17.13788</td>\n",
       "      <td>19.51352</td>\n",
       "      <td>17.48334</td>\n",
       "      <td>16.55828</td>\n",
       "      <td>16.12012</td>\n",
       "      <td>15.80512</td>\n",
       "    </tr>\n",
       "  </tbody>\n",
       "</table>\n",
       "</div>"
      ],
      "text/plain": [
       "      specObjID    mjd         z      zErr  class     subClass          ra  \\\n",
       "0  2.492854e+18  53794  0.046830  0.000013      2  STARFORMING  168.226340   \n",
       "1  2.931998e+18  54484  0.107388  0.000022      2    BROADLINE  199.100930   \n",
       "2  7.062913e+18  56243  0.110434  0.000018      2  STARFORMING   30.509623   \n",
       "3  2.643705e+18  53757  0.094012  0.000017      2          AGN  151.738140   \n",
       "4  3.277713e+17  51928  0.081368  0.000016      2    BROADLINE  191.056960   \n",
       "\n",
       "         dec         objID    obj  psfMag_u  psfMag_g  psfMag_r  psfMag_i  \\\n",
       "0  28.000764  1.237667e+18  175.0  19.31826  18.07397  17.43640  17.13822   \n",
       "1  17.810786  1.237669e+18  533.0  20.96210  19.03283  17.91157  17.41227   \n",
       "2  29.668762  1.237680e+18  227.0  20.56769  18.84073  17.86699  17.48035   \n",
       "3  29.444674  1.237665e+18  241.0  20.20121  18.30848  17.40326  17.01107   \n",
       "4   0.701555  1.237671e+18  215.0  20.50037  18.87215  17.78273  17.43141   \n",
       "\n",
       "   psfMag_z  cModelMag_u  cModelMag_g  cModelMag_r  cModelMag_i  cModelMag_z  \n",
       "0  16.83783     16.90090     15.42760     14.87280     14.54233     14.21699  \n",
       "1  17.10114     19.53960     17.81668     16.72935     16.26477     15.94412  \n",
       "2  17.12382     18.94389     17.42863     16.68942     16.29349     15.99386  \n",
       "3  16.64134     18.64323     16.86745     15.92572     15.53301     15.31248  \n",
       "4  17.13788     19.51352     17.48334     16.55828     16.12012     15.80512  "
      ]
     },
     "execution_count": 402,
     "metadata": {},
     "output_type": "execute_result"
    }
   ],
   "source": [
    "galaxy=pd.concat([df11, df12, df13,df14,df15,df16,df17,df18 ], ignore_index=True)\n",
    "galaxy.head()"
   ]
  },
  {
   "cell_type": "code",
   "execution_count": 403,
   "metadata": {},
   "outputs": [],
   "source": [
    "df21=df2[(df2['psfMag_i']>=17) & ( df2['psfMag_i']<17.5)]\n",
    "df21=df21.sample(3000)\n",
    "df22=df2[(df2['psfMag_i']>=17.5) & ( df2['psfMag_i']<18)]\n",
    "df22=df22.sample(3000)\n",
    "df23=df2[(df2['psfMag_i']>=18) & ( df2['psfMag_i']<18.5)]\n",
    "df23=df23.sample(3000)\n",
    "df24=df2[(df2['psfMag_i']>=18.5) & ( df2['psfMag_i']<19)]\n",
    "df24=df24.sample(3000)\n",
    "df25=df2[(df2['psfMag_i']>=19) & ( df2['psfMag_i']<19.5)]\n",
    "df25=df25.sample(3000)\n",
    "df26=df2[(df2['psfMag_i']>=19.5) & ( df2['psfMag_i']<20)]\n",
    "df26=df26.sample(3000)\n",
    "df27=df2[(df2['psfMag_i']>=20) & ( df2['psfMag_i']<20.5)]\n",
    "df27=df27.sample(3000)\n",
    "df28=df2[(df2['psfMag_i']>=20.5) & ( df2['psfMag_i']<21)]\n",
    "df28=df28.sample(3000)"
   ]
  },
  {
   "cell_type": "code",
   "execution_count": 404,
   "metadata": {},
   "outputs": [
    {
     "data": {
      "text/html": [
       "<div>\n",
       "<style scoped>\n",
       "    .dataframe tbody tr th:only-of-type {\n",
       "        vertical-align: middle;\n",
       "    }\n",
       "\n",
       "    .dataframe tbody tr th {\n",
       "        vertical-align: top;\n",
       "    }\n",
       "\n",
       "    .dataframe thead th {\n",
       "        text-align: right;\n",
       "    }\n",
       "</style>\n",
       "<table border=\"1\" class=\"dataframe\">\n",
       "  <thead>\n",
       "    <tr style=\"text-align: right;\">\n",
       "      <th></th>\n",
       "      <th>specObjID</th>\n",
       "      <th>mjd</th>\n",
       "      <th>z</th>\n",
       "      <th>zErr</th>\n",
       "      <th>class</th>\n",
       "      <th>subClass</th>\n",
       "      <th>ra</th>\n",
       "      <th>dec</th>\n",
       "      <th>objID</th>\n",
       "      <th>obj</th>\n",
       "      <th>psfMag_u</th>\n",
       "      <th>psfMag_g</th>\n",
       "      <th>psfMag_r</th>\n",
       "      <th>psfMag_i</th>\n",
       "      <th>psfMag_z</th>\n",
       "      <th>cModelMag_u</th>\n",
       "      <th>cModelMag_g</th>\n",
       "      <th>cModelMag_r</th>\n",
       "      <th>cModelMag_i</th>\n",
       "      <th>cModelMag_z</th>\n",
       "    </tr>\n",
       "  </thead>\n",
       "  <tbody>\n",
       "    <tr>\n",
       "      <th>0</th>\n",
       "      <td>1.893830e+18</td>\n",
       "      <td>53173</td>\n",
       "      <td>-0.000117</td>\n",
       "      <td>0.000010</td>\n",
       "      <td>1</td>\n",
       "      <td>K3</td>\n",
       "      <td>240.835570</td>\n",
       "      <td>35.160100</td>\n",
       "      <td>1.237662e+18</td>\n",
       "      <td>154.0</td>\n",
       "      <td>19.81085</td>\n",
       "      <td>18.14597</td>\n",
       "      <td>17.41704</td>\n",
       "      <td>17.15345</td>\n",
       "      <td>16.98034</td>\n",
       "      <td>19.74499</td>\n",
       "      <td>17.95824</td>\n",
       "      <td>17.16358</td>\n",
       "      <td>16.82082</td>\n",
       "      <td>16.61309</td>\n",
       "    </tr>\n",
       "    <tr>\n",
       "      <th>1</th>\n",
       "      <td>2.485020e+18</td>\n",
       "      <td>53558</td>\n",
       "      <td>-0.000396</td>\n",
       "      <td>0.000024</td>\n",
       "      <td>1</td>\n",
       "      <td>M5</td>\n",
       "      <td>248.821500</td>\n",
       "      <td>17.499492</td>\n",
       "      <td>1.237665e+18</td>\n",
       "      <td>485.0</td>\n",
       "      <td>23.66274</td>\n",
       "      <td>20.96328</td>\n",
       "      <td>19.50988</td>\n",
       "      <td>17.48802</td>\n",
       "      <td>16.37670</td>\n",
       "      <td>21.64381</td>\n",
       "      <td>20.96655</td>\n",
       "      <td>19.50430</td>\n",
       "      <td>17.48608</td>\n",
       "      <td>16.38100</td>\n",
       "    </tr>\n",
       "    <tr>\n",
       "      <th>2</th>\n",
       "      <td>3.070414e+18</td>\n",
       "      <td>54414</td>\n",
       "      <td>0.000153</td>\n",
       "      <td>0.000010</td>\n",
       "      <td>1</td>\n",
       "      <td>G2</td>\n",
       "      <td>104.679650</td>\n",
       "      <td>11.958560</td>\n",
       "      <td>1.237674e+18</td>\n",
       "      <td>707.0</td>\n",
       "      <td>19.24937</td>\n",
       "      <td>18.03333</td>\n",
       "      <td>17.57656</td>\n",
       "      <td>17.37598</td>\n",
       "      <td>17.28618</td>\n",
       "      <td>19.26074</td>\n",
       "      <td>18.03773</td>\n",
       "      <td>17.57248</td>\n",
       "      <td>17.37600</td>\n",
       "      <td>17.29871</td>\n",
       "    </tr>\n",
       "    <tr>\n",
       "      <th>3</th>\n",
       "      <td>2.627962e+18</td>\n",
       "      <td>53730</td>\n",
       "      <td>0.000038</td>\n",
       "      <td>0.000012</td>\n",
       "      <td>1</td>\n",
       "      <td>F9</td>\n",
       "      <td>50.927538</td>\n",
       "      <td>6.466590</td>\n",
       "      <td>1.237670e+18</td>\n",
       "      <td>194.0</td>\n",
       "      <td>19.87070</td>\n",
       "      <td>18.21916</td>\n",
       "      <td>17.47662</td>\n",
       "      <td>17.18795</td>\n",
       "      <td>16.96807</td>\n",
       "      <td>19.80987</td>\n",
       "      <td>18.20998</td>\n",
       "      <td>17.48002</td>\n",
       "      <td>17.18553</td>\n",
       "      <td>16.92752</td>\n",
       "    </tr>\n",
       "    <tr>\n",
       "      <th>4</th>\n",
       "      <td>2.951065e+18</td>\n",
       "      <td>54380</td>\n",
       "      <td>-0.000169</td>\n",
       "      <td>0.000014</td>\n",
       "      <td>1</td>\n",
       "      <td>F9</td>\n",
       "      <td>341.728540</td>\n",
       "      <td>29.484569</td>\n",
       "      <td>1.237673e+18</td>\n",
       "      <td>117.0</td>\n",
       "      <td>18.99598</td>\n",
       "      <td>17.86927</td>\n",
       "      <td>17.34472</td>\n",
       "      <td>17.11162</td>\n",
       "      <td>17.01894</td>\n",
       "      <td>19.02267</td>\n",
       "      <td>17.87277</td>\n",
       "      <td>17.34621</td>\n",
       "      <td>17.12428</td>\n",
       "      <td>17.02181</td>\n",
       "    </tr>\n",
       "  </tbody>\n",
       "</table>\n",
       "</div>"
      ],
      "text/plain": [
       "      specObjID    mjd         z      zErr class subClass          ra  \\\n",
       "0  1.893830e+18  53173 -0.000117  0.000010     1       K3  240.835570   \n",
       "1  2.485020e+18  53558 -0.000396  0.000024     1       M5  248.821500   \n",
       "2  3.070414e+18  54414  0.000153  0.000010     1       G2  104.679650   \n",
       "3  2.627962e+18  53730  0.000038  0.000012     1       F9   50.927538   \n",
       "4  2.951065e+18  54380 -0.000169  0.000014     1       F9  341.728540   \n",
       "\n",
       "         dec         objID    obj  psfMag_u  psfMag_g  psfMag_r  psfMag_i  \\\n",
       "0  35.160100  1.237662e+18  154.0  19.81085  18.14597  17.41704  17.15345   \n",
       "1  17.499492  1.237665e+18  485.0  23.66274  20.96328  19.50988  17.48802   \n",
       "2  11.958560  1.237674e+18  707.0  19.24937  18.03333  17.57656  17.37598   \n",
       "3   6.466590  1.237670e+18  194.0  19.87070  18.21916  17.47662  17.18795   \n",
       "4  29.484569  1.237673e+18  117.0  18.99598  17.86927  17.34472  17.11162   \n",
       "\n",
       "   psfMag_z  cModelMag_u  cModelMag_g  cModelMag_r  cModelMag_i  cModelMag_z  \n",
       "0  16.98034     19.74499     17.95824     17.16358     16.82082     16.61309  \n",
       "1  16.37670     21.64381     20.96655     19.50430     17.48608     16.38100  \n",
       "2  17.28618     19.26074     18.03773     17.57248     17.37600     17.29871  \n",
       "3  16.96807     19.80987     18.20998     17.48002     17.18553     16.92752  \n",
       "4  17.01894     19.02267     17.87277     17.34621     17.12428     17.02181  "
      ]
     },
     "execution_count": 404,
     "metadata": {},
     "output_type": "execute_result"
    }
   ],
   "source": [
    "star=pd.concat([df21, df22, df23,df24,df25,df26,df27,df28 ], ignore_index=True)\n",
    "star.head()"
   ]
  },
  {
   "cell_type": "code",
   "execution_count": 405,
   "metadata": {},
   "outputs": [],
   "source": [
    "df31=df3[(df3['psfMag_i']>=17) & ( df3['psfMag_i']<17.5)]\n",
    "df31=df31.sample(3000)\n",
    "df32=df3[(df3['psfMag_i']>=17.5) & ( df3['psfMag_i']<18)]\n",
    "df32=df32.sample(3000)\n",
    "df33=df3[(df3['psfMag_i']>=18) & ( df3['psfMag_i']<18.5)]\n",
    "df33=df33.sample(3000)\n",
    "df34=df3[(df3['psfMag_i']>=18.5) & ( df3['psfMag_i']<19)]\n",
    "df34=df34.sample(3000)\n",
    "df35=df3[(df3['psfMag_i']>=19) & ( df3['psfMag_i']<19.5)]\n",
    "df35=df35.sample(3000)\n",
    "df36=df3[(df3['psfMag_i']>=19.5) & ( df3['psfMag_i']<20)]\n",
    "df36=df36.sample(3000)\n",
    "df37=df3[(df3['psfMag_i']>=20) & ( df3['psfMag_i']<20.5)]\n",
    "df37=df37.sample(3000)\n",
    "df38=df3[(df3['psfMag_i']>=20.5) & ( df3['psfMag_i']<21)]\n",
    "df38=df38.sample(3000)"
   ]
  },
  {
   "cell_type": "code",
   "execution_count": 406,
   "metadata": {
    "scrolled": true
   },
   "outputs": [
    {
     "data": {
      "text/html": [
       "<div>\n",
       "<style scoped>\n",
       "    .dataframe tbody tr th:only-of-type {\n",
       "        vertical-align: middle;\n",
       "    }\n",
       "\n",
       "    .dataframe tbody tr th {\n",
       "        vertical-align: top;\n",
       "    }\n",
       "\n",
       "    .dataframe thead th {\n",
       "        text-align: right;\n",
       "    }\n",
       "</style>\n",
       "<table border=\"1\" class=\"dataframe\">\n",
       "  <thead>\n",
       "    <tr style=\"text-align: right;\">\n",
       "      <th></th>\n",
       "      <th>specObjID</th>\n",
       "      <th>mjd</th>\n",
       "      <th>z</th>\n",
       "      <th>zErr</th>\n",
       "      <th>class</th>\n",
       "      <th>subClass</th>\n",
       "      <th>ra</th>\n",
       "      <th>dec</th>\n",
       "      <th>objID</th>\n",
       "      <th>obj</th>\n",
       "      <th>psfMag_u</th>\n",
       "      <th>psfMag_g</th>\n",
       "      <th>psfMag_r</th>\n",
       "      <th>psfMag_i</th>\n",
       "      <th>psfMag_z</th>\n",
       "      <th>cModelMag_u</th>\n",
       "      <th>cModelMag_g</th>\n",
       "      <th>cModelMag_r</th>\n",
       "      <th>cModelMag_i</th>\n",
       "      <th>cModelMag_z</th>\n",
       "    </tr>\n",
       "  </thead>\n",
       "  <tbody>\n",
       "    <tr>\n",
       "      <th>0</th>\n",
       "      <td>8.000716e+18</td>\n",
       "      <td>56663</td>\n",
       "      <td>0.151690</td>\n",
       "      <td>0.000023</td>\n",
       "      <td>3</td>\n",
       "      <td>STARBURST BROADLINE</td>\n",
       "      <td>178.73491</td>\n",
       "      <td>61.614868</td>\n",
       "      <td>1.237654e+18</td>\n",
       "      <td>9.0</td>\n",
       "      <td>18.49203</td>\n",
       "      <td>18.20766</td>\n",
       "      <td>17.77685</td>\n",
       "      <td>17.25899</td>\n",
       "      <td>17.23493</td>\n",
       "      <td>18.39229</td>\n",
       "      <td>17.97903</td>\n",
       "      <td>17.23823</td>\n",
       "      <td>16.79608</td>\n",
       "      <td>16.50875</td>\n",
       "    </tr>\n",
       "    <tr>\n",
       "      <th>1</th>\n",
       "      <td>8.434417e+17</td>\n",
       "      <td>52226</td>\n",
       "      <td>1.286693</td>\n",
       "      <td>0.000201</td>\n",
       "      <td>3</td>\n",
       "      <td>BROADLINE</td>\n",
       "      <td>358.86536</td>\n",
       "      <td>15.160566</td>\n",
       "      <td>1.237656e+18</td>\n",
       "      <td>114.0</td>\n",
       "      <td>17.49598</td>\n",
       "      <td>17.40450</td>\n",
       "      <td>17.09127</td>\n",
       "      <td>17.00725</td>\n",
       "      <td>17.00974</td>\n",
       "      <td>17.48729</td>\n",
       "      <td>17.37569</td>\n",
       "      <td>17.08510</td>\n",
       "      <td>17.00756</td>\n",
       "      <td>17.00949</td>\n",
       "    </tr>\n",
       "    <tr>\n",
       "      <th>2</th>\n",
       "      <td>1.628168e+18</td>\n",
       "      <td>53080</td>\n",
       "      <td>0.862112</td>\n",
       "      <td>0.000189</td>\n",
       "      <td>3</td>\n",
       "      <td>BROADLINE</td>\n",
       "      <td>177.78880</td>\n",
       "      <td>47.482146</td>\n",
       "      <td>1.237661e+18</td>\n",
       "      <td>70.0</td>\n",
       "      <td>17.48582</td>\n",
       "      <td>17.17956</td>\n",
       "      <td>17.11083</td>\n",
       "      <td>17.19758</td>\n",
       "      <td>17.16441</td>\n",
       "      <td>17.48721</td>\n",
       "      <td>17.17811</td>\n",
       "      <td>17.10613</td>\n",
       "      <td>17.19093</td>\n",
       "      <td>17.11247</td>\n",
       "    </tr>\n",
       "    <tr>\n",
       "      <th>3</th>\n",
       "      <td>6.025165e+17</td>\n",
       "      <td>51999</td>\n",
       "      <td>0.304887</td>\n",
       "      <td>0.000027</td>\n",
       "      <td>3</td>\n",
       "      <td>STARBURST BROADLINE</td>\n",
       "      <td>218.81521</td>\n",
       "      <td>2.539320</td>\n",
       "      <td>1.237652e+18</td>\n",
       "      <td>44.0</td>\n",
       "      <td>17.30555</td>\n",
       "      <td>17.14761</td>\n",
       "      <td>16.91123</td>\n",
       "      <td>17.12698</td>\n",
       "      <td>16.26370</td>\n",
       "      <td>17.33061</td>\n",
       "      <td>17.15448</td>\n",
       "      <td>16.90289</td>\n",
       "      <td>17.11216</td>\n",
       "      <td>16.26563</td>\n",
       "    </tr>\n",
       "    <tr>\n",
       "      <th>4</th>\n",
       "      <td>9.597250e+18</td>\n",
       "      <td>57656</td>\n",
       "      <td>0.409735</td>\n",
       "      <td>0.000022</td>\n",
       "      <td>3</td>\n",
       "      <td>STARBURST BROADLINE</td>\n",
       "      <td>247.22458</td>\n",
       "      <td>41.389556</td>\n",
       "      <td>1.237655e+18</td>\n",
       "      <td>53.0</td>\n",
       "      <td>17.88737</td>\n",
       "      <td>17.59815</td>\n",
       "      <td>17.50183</td>\n",
       "      <td>17.35841</td>\n",
       "      <td>16.90259</td>\n",
       "      <td>17.88403</td>\n",
       "      <td>17.55934</td>\n",
       "      <td>17.47338</td>\n",
       "      <td>17.31361</td>\n",
       "      <td>16.87751</td>\n",
       "    </tr>\n",
       "  </tbody>\n",
       "</table>\n",
       "</div>"
      ],
      "text/plain": [
       "      specObjID    mjd         z      zErr class             subClass  \\\n",
       "0  8.000716e+18  56663  0.151690  0.000023     3  STARBURST BROADLINE   \n",
       "1  8.434417e+17  52226  1.286693  0.000201     3            BROADLINE   \n",
       "2  1.628168e+18  53080  0.862112  0.000189     3            BROADLINE   \n",
       "3  6.025165e+17  51999  0.304887  0.000027     3  STARBURST BROADLINE   \n",
       "4  9.597250e+18  57656  0.409735  0.000022     3  STARBURST BROADLINE   \n",
       "\n",
       "          ra        dec         objID    obj  psfMag_u  psfMag_g  psfMag_r  \\\n",
       "0  178.73491  61.614868  1.237654e+18    9.0  18.49203  18.20766  17.77685   \n",
       "1  358.86536  15.160566  1.237656e+18  114.0  17.49598  17.40450  17.09127   \n",
       "2  177.78880  47.482146  1.237661e+18   70.0  17.48582  17.17956  17.11083   \n",
       "3  218.81521   2.539320  1.237652e+18   44.0  17.30555  17.14761  16.91123   \n",
       "4  247.22458  41.389556  1.237655e+18   53.0  17.88737  17.59815  17.50183   \n",
       "\n",
       "   psfMag_i  psfMag_z  cModelMag_u  cModelMag_g  cModelMag_r  cModelMag_i  \\\n",
       "0  17.25899  17.23493     18.39229     17.97903     17.23823     16.79608   \n",
       "1  17.00725  17.00974     17.48729     17.37569     17.08510     17.00756   \n",
       "2  17.19758  17.16441     17.48721     17.17811     17.10613     17.19093   \n",
       "3  17.12698  16.26370     17.33061     17.15448     16.90289     17.11216   \n",
       "4  17.35841  16.90259     17.88403     17.55934     17.47338     17.31361   \n",
       "\n",
       "   cModelMag_z  \n",
       "0     16.50875  \n",
       "1     17.00949  \n",
       "2     17.11247  \n",
       "3     16.26563  \n",
       "4     16.87751  "
      ]
     },
     "execution_count": 406,
     "metadata": {},
     "output_type": "execute_result"
    }
   ],
   "source": [
    "qso=pd.concat([df31, df32, df33,df34,df35,df36,df37,df38], ignore_index=True)\n",
    "qso.head()"
   ]
  },
  {
   "cell_type": "code",
   "execution_count": 407,
   "metadata": {},
   "outputs": [],
   "source": [
    "result=pd.concat([galaxy, star, qso ], ignore_index=True)"
   ]
  },
  {
   "cell_type": "code",
   "execution_count": 408,
   "metadata": {},
   "outputs": [],
   "source": [
    "#result.drop(['subClass','specObjID','objID'],   axis=1, inplace=True)"
   ]
  },
  {
   "cell_type": "code",
   "execution_count": 409,
   "metadata": {},
   "outputs": [],
   "source": [
    "result=result.dropna()"
   ]
  },
  {
   "cell_type": "code",
   "execution_count": 410,
   "metadata": {},
   "outputs": [
    {
     "data": {
      "text/plain": [
       "specObjID      0\n",
       "mjd            0\n",
       "z              0\n",
       "zErr           0\n",
       "class          0\n",
       "subClass       0\n",
       "ra             0\n",
       "dec            0\n",
       "objID          0\n",
       "obj            0\n",
       "psfMag_u       0\n",
       "psfMag_g       0\n",
       "psfMag_r       0\n",
       "psfMag_i       0\n",
       "psfMag_z       0\n",
       "cModelMag_u    0\n",
       "cModelMag_g    0\n",
       "cModelMag_r    0\n",
       "cModelMag_i    0\n",
       "cModelMag_z    0\n",
       "dtype: int64"
      ]
     },
     "execution_count": 410,
     "metadata": {},
     "output_type": "execute_result"
    }
   ],
   "source": [
    "result.isnull().sum()"
   ]
  },
  {
   "cell_type": "code",
   "execution_count": 411,
   "metadata": {},
   "outputs": [
    {
     "data": {
      "text/plain": [
       "<matplotlib.axes._subplots.AxesSubplot at 0x203be4e0>"
      ]
     },
     "execution_count": 411,
     "metadata": {},
     "output_type": "execute_result"
    },
    {
     "data": {
      "image/png": "[encoded data removed]",
      "text/plain": [
       "<Figure size 1728x432 with 3 Axes>"
      ]
     },
     "metadata": {
      "needs_background": "light"
     },
     "output_type": "display_data"
    }
   ],
   "source": [
    "fig, (ax1, ax2, ax3) = plt.subplots(ncols = 3, figsize = (24, 6))\n",
    "sns.distplot(result[result['class'] == 1].z, ax = ax1, bins = 30, color = 'g')\n",
    "sns.distplot(result[result['class'] == 2].z, ax = ax2, bins = 30, color = 'r')\n",
    "sns.distplot(result[result['class'] == 3].z, ax = ax3, bins = 30, color = 'b')"
   ]
  },
  {
   "cell_type": "code",
   "execution_count": 412,
   "metadata": {},
   "outputs": [],
   "source": [
    "# fig, ((ax1, ax2, ax3, ax4, ax5, ax6), (ax7, ax8, ax9, ax10, ax11, ax12)) = plt.subplots(nrows=2, ncols=6, figsize = (25, 12))\n",
    "# #sns.boxplot(ax=ax1, x = 'class', y = 'ra', hue = 'class', data = result)\n",
    "# sns.boxplot(ax=ax2, x = 'class', y = 'dec', hue = 'class', data = result)\n",
    "# sns.boxplot(ax=ax3, x = 'class', y = 'psfMag_u', hue = 'class', data = result)\n",
    "# sns.boxplot(ax=ax4, x = 'class', y = 'psfMag_g', hue = 'class', data = result)\n",
    "# sns.boxplot(ax=ax5, x = 'class', y = 'psfMag_r', hue = 'class', data = result)\n",
    "# sns.boxplot(ax=ax6, x = 'class', y = 'psfMag_i', hue = 'class',data = result)\n",
    "# sns.boxplot(ax=ax7, x = 'class', y = 'psfMag_z', hue = 'class', data = result)\n",
    "# sns.boxplot(ax=ax8, x = 'class', y = 'z', hue = 'class', data = result)\n",
    "# sns.boxplot(ax=ax9, x = 'class', y = 'cModelMag_u', hue = 'class', data = result)\n",
    "# sns.boxplot(ax=ax10, x = 'class', y = 'cModelMag_g', hue = 'class', data = result)\n",
    "# sns.boxplot(ax=ax11, x = 'class', y = 'cModelMag_r', hue = 'class', data = result)\n",
    "# sns.boxplot(ax=ax12, x = 'class', y = 'cModelMag_i', hue = 'class', data = result)\n",
    "# sns.boxplot(ax=ax1, x = 'class', y = 'cModelMag_z', hue = 'class', data = result)"
   ]
  },
  {
   "cell_type": "code",
   "execution_count": 413,
   "metadata": {},
   "outputs": [
    {
     "data": {
      "text/plain": [
       "<matplotlib.axes._subplots.AxesSubplot at 0x1d42a048>"
      ]
     },
     "execution_count": 413,
     "metadata": {},
     "output_type": "execute_result"
    },
    {
     "data": {
      "image/png": "[encoded data removed]",
      "text/plain": [
       "<Figure size 720x576 with 2 Axes>"
      ]
     },
     "metadata": {
      "needs_background": "light"
     },
     "output_type": "display_data"
    }
   ],
   "source": [
    "corr = result.corr()\n",
    "plt.figure(figsize = (10, 8))\n",
    "sns.heatmap(corr, annot = True)"
   ]
  },
  {
   "cell_type": "code",
   "execution_count": 414,
   "metadata": {},
   "outputs": [
    {
     "data": {
      "text/plain": [
       "72000"
      ]
     },
     "execution_count": 414,
     "metadata": {},
     "output_type": "execute_result"
    }
   ],
   "source": [
    "result.shape[0]"
   ]
  },
  {
   "cell_type": "code",
   "execution_count": 415,
   "metadata": {},
   "outputs": [],
   "source": [
    "# pca = PCA(n_components = 3)\n",
    "# result_pca = pca.fit_transform(result[['psfMag_u', 'psfMag_g', 'psfMag_r', 'psfMag_i', 'psfMag_z', 'cModelMag_u', 'cModelMag_g', 'cModelMag_r', 'cModelMag_i', 'cModelMag_z']])\n",
    "\n",
    "# result = pd.concat((result, pd.DataFrame(result_pca)), axis = 1)\n",
    "# result.rename({0:'F1', 1:'F2', 2:'F3'}, axis = 1, inplace = True)\n",
    "# result.drop(['psfMag_u', 'psfMag_g', 'psfMag_r', 'psfMag_i', 'psfMag_z', 'cModelMag_u', 'cModelMag_g', 'cModelMag_r', 'cModelMag_i', 'cModelMag_z'], axis = 1, inplace = True)\n",
    "# result.head(3)"
   ]
  },
  {
   "cell_type": "code",
   "execution_count": 416,
   "metadata": {},
   "outputs": [
    {
     "data": {
      "text/plain": [
       "specObjID      0\n",
       "mjd            0\n",
       "z              0\n",
       "zErr           0\n",
       "class          0\n",
       "subClass       0\n",
       "ra             0\n",
       "dec            0\n",
       "objID          0\n",
       "obj            0\n",
       "psfMag_u       0\n",
       "psfMag_g       0\n",
       "psfMag_r       0\n",
       "psfMag_i       0\n",
       "psfMag_z       0\n",
       "cModelMag_u    0\n",
       "cModelMag_g    0\n",
       "cModelMag_r    0\n",
       "cModelMag_i    0\n",
       "cModelMag_z    0\n",
       "dtype: int64"
      ]
     },
     "execution_count": 416,
     "metadata": {},
     "output_type": "execute_result"
    }
   ],
   "source": [
    "result.isnull().sum()"
   ]
  },
  {
   "cell_type": "code",
   "execution_count": 417,
   "metadata": {},
   "outputs": [],
   "source": [
    "# labels = {'STAR':1, 'GALAXY':2, 'QSO':3}\n",
    "# galaxy.replace({'class':labels}, inplace = True)\n",
    "# star.replace({'class':labels}, inplace = True)\n",
    "# qso.replace({'class':labels}, inplace = True)"
   ]
  },
  {
   "cell_type": "code",
   "execution_count": 418,
   "metadata": {},
   "outputs": [],
   "source": [
    "train=df.sample(100000)\n",
    "train=(train[~train.specObjID.isin(result.specObjID)])\n",
    "train.replace({'class':labels}, inplace = True)\n",
    "train.drop(['subClass','specObjID','objID'],   axis=1, inplace=True)\n",
    "train=train.dropna()\n",
    "\n",
    "X_train= train.drop('class', axis = 1).values\n",
    "y_train = train['class'].values\n"
   ]
  },
  {
   "cell_type": "code",
   "execution_count": 419,
   "metadata": {},
   "outputs": [],
   "source": [
    "galaxy.drop(['subClass','specObjID','objID'],   axis=1, inplace=True)\n",
    "star.drop(['subClass','specObjID','objID'],   axis=1, inplace=True)\n",
    "qso.drop(['subClass','specObjID','objID'],   axis=1, inplace=True)"
   ]
  },
  {
   "cell_type": "code",
   "execution_count": 420,
   "metadata": {},
   "outputs": [],
   "source": [
    "X1 = galaxy.drop('class', axis = 1).values\n",
    "y1 = galaxy['class'].values\n",
    "X2 = star.drop('class', axis = 1).values\n",
    "y2 = star['class'].values\n",
    "X3 = qso.drop('class', axis = 1).values\n",
    "y3 = qso['class'].values"
   ]
  },
  {
   "cell_type": "code",
   "execution_count": 421,
   "metadata": {},
   "outputs": [],
   "source": [
    "# X1_train, X1_test, y1_train, y1_test = train_test_split(X1, y1, test_size = 0.2, random_state = 123)\n",
    "# X2_train, X2_test, y2_train, y2_test = train_test_split(X2, y2, test_size = 0.2, random_state = 123)\n",
    "# X3_train, X3_test, y3_train, y3_test = train_test_split(X3, y3, test_size = 0.2, random_state = 123)"
   ]
  },
  {
   "cell_type": "code",
   "execution_count": 422,
   "metadata": {},
   "outputs": [],
   "source": [
    "# X_train=np.concatenate((X1_train, X2_train, X3_train), axis=0)\n",
    "# y_train=np.concatenate((y1_train, y2_train, y3_train), axis=0)\n",
    "X_test=np.concatenate((X1, X2, X3), axis=0)\n",
    "y_test=np.concatenate((y1, y2, y3), axis=0)\n",
    "y_train=y_train.astype('int')\n",
    "y_test=y_test.astype('int')"
   ]
  },
  {
   "cell_type": "code",
   "execution_count": 423,
   "metadata": {},
   "outputs": [],
   "source": [
    "robust = RobustScaler()\n",
    "X_train = robust.fit_transform(X_train)\n",
    "X_test = robust.transform(X_test)"
   ]
  },
  {
   "cell_type": "code",
   "execution_count": 424,
   "metadata": {},
   "outputs": [
    {
     "name": "stdout",
     "output_type": "stream",
     "text": [
      "Classification Report: \n",
      "\n",
      "              precision    recall  f1-score   support\n",
      "\n",
      "           1       0.98      0.98      0.98     24000\n",
      "           2       0.89      0.97      0.93     24000\n",
      "           3       0.99      0.90      0.94     24000\n",
      "\n",
      "   micro avg       0.95      0.95      0.95     72000\n",
      "   macro avg       0.95      0.95      0.95     72000\n",
      "weighted avg       0.95      0.95      0.95     72000\n",
      "\n",
      "Confusion Matrix: \n",
      "\n",
      "[[23413   587     0]\n",
      " [  478 23272   250]\n",
      " [   79  2413 21508]]\n",
      "('Training Score: ', 0.959971320061393)\n",
      "('Testing Score: ', 0.947125)\n"
     ]
    }
   ],
   "source": [
    "lr = LogisticRegression(max_iter=600)\n",
    "lr.fit(X_train, y_train)\n",
    "y_pred = lr.predict(X_test)\n",
    "print('Classification Report: \\n')\n",
    "print(classification_report(y_test, y_pred))\n",
    "print('Confusion Matrix: \\n')\n",
    "print(confusion_matrix(y_test, y_pred))\n",
    "lr_train_acc = lr.score(X_train, y_train)\n",
    "print('Training Score: ', lr_train_acc)\n",
    "lr_test_acc = lr.score(X_test, y_test)\n",
    "print('Testing Score: ', lr_test_acc)"
   ]
  },
  {
   "cell_type": "code",
   "execution_count": 425,
   "metadata": {},
   "outputs": [
    {
     "name": "stdout",
     "output_type": "stream",
     "text": [
      "Classification Report: \n",
      "\n",
      "              precision    recall  f1-score   support\n",
      "\n",
      "           1       0.99      0.99      0.99     24000\n",
      "           2       0.93      0.99      0.96     24000\n",
      "           3       0.99      0.92      0.96     24000\n",
      "\n",
      "   micro avg       0.97      0.97      0.97     72000\n",
      "   macro avg       0.97      0.97      0.97     72000\n",
      "weighted avg       0.97      0.97      0.97     72000\n",
      "\n",
      "Confusion Matrix: \n",
      "\n",
      "[[23810    86   104]\n",
      " [   90 23851    59]\n",
      " [   40  1775 22185]]\n",
      "('Training Score: ', 0.979442309631306)\n",
      "('Testing Score: ', 0.9700833333333333)\n"
     ]
    }
   ],
   "source": [
    "svc = SVC(gamma='auto')\n",
    "svc.fit(X_train, y_train)\n",
    "y_pred = svc.predict(X_test)\n",
    "print('Classification Report: \\n')\n",
    "print(classification_report(y_test, y_pred))\n",
    "print('Confusion Matrix: \\n')\n",
    "print(confusion_matrix(y_test, y_pred))\n",
    "svc_train_acc = svc.score(X_train, y_train)\n",
    "print('Training Score: ', svc_train_acc)\n",
    "svc_test_acc = svc.score(X_test, y_test)\n",
    "print('Testing Score: ', svc_test_acc)"
   ]
  },
  {
   "cell_type": "markdown",
   "metadata": {},
   "source": [
    "## Далее считаю для каждого бина"
   ]
  },
  {
   "cell_type": "code",
   "execution_count": 426,
   "metadata": {},
   "outputs": [],
   "source": [
    "test1=pd.concat([df11, df21, df31 ], ignore_index=True)\n",
    "test1.drop(['subClass','specObjID','objID'],   axis=1, inplace=True)\n",
    "Xtest1 = test1.drop('class', axis = 1).values\n",
    "ytest1 = test1['class'].values\n",
    "ytest1=ytest1.astype('int')\n",
    "test2=pd.concat([df12, df22, df32 ], ignore_index=True)\n",
    "test2.drop(['subClass','specObjID','objID'],   axis=1, inplace=True)\n",
    "Xtest2 = test2.drop('class', axis = 1).values\n",
    "ytest2 = test2['class'].values\n",
    "ytest2=ytest2.astype('int')\n",
    "test3=pd.concat([df13, df23, df33 ], ignore_index=True)\n",
    "test3.drop(['subClass','specObjID','objID'],   axis=1, inplace=True)\n",
    "Xtest3 = test3.drop('class', axis = 1).values\n",
    "ytest3 = test3['class'].values\n",
    "ytest3=ytest3.astype('int')\n",
    "test4=pd.concat([df14, df24, df34 ], ignore_index=True)\n",
    "test4.drop(['subClass','specObjID','objID'],   axis=1, inplace=True)\n",
    "Xtest4 = test4.drop('class', axis = 1).values\n",
    "ytest4 = test4['class'].values\n",
    "test5=pd.concat([df15, df25, df35 ], ignore_index=True)\n",
    "test5.drop(['subClass','specObjID','objID'],   axis=1, inplace=True)\n",
    "Xtest5 = test5.drop('class', axis = 1).values\n",
    "ytest5 = test5['class'].values\n",
    "test6=pd.concat([df16, df26, df36 ], ignore_index=True)\n",
    "test6.drop(['subClass','specObjID','objID'],   axis=1, inplace=True)\n",
    "Xtest6 = test6.drop('class', axis = 1).values\n",
    "ytest6 = test6['class'].values\n",
    "test7=pd.concat([df17, df27, df37 ], ignore_index=True)\n",
    "test7.drop(['subClass','specObjID','objID'],   axis=1, inplace=True)\n",
    "Xtest7 = test7.drop('class', axis = 1).values\n",
    "ytest7 = test7['class'].values\n",
    "test8=pd.concat([df18, df28, df38 ], ignore_index=True)\n",
    "test8.drop(['subClass','specObjID','objID'],   axis=1, inplace=True)\n",
    "Xtest8 = test8.drop('class', axis = 1).values\n",
    "ytest8 = test8['class'].values"
   ]
  },
  {
   "cell_type": "code",
   "execution_count": 427,
   "metadata": {},
   "outputs": [
    {
     "name": "stdout",
     "output_type": "stream",
     "text": [
      "Classification Report: \n",
      "\n",
      "              precision    recall  f1-score   support\n",
      "\n",
      "           1       0.00      0.00      0.00      3000\n",
      "           2       0.00      0.00      0.00      3000\n",
      "           3       0.33      1.00      0.50      3000\n",
      "\n",
      "   micro avg       0.33      0.33      0.33      9000\n",
      "   macro avg       0.11      0.33      0.17      9000\n",
      "weighted avg       0.11      0.33      0.17      9000\n",
      "\n"
     ]
    }
   ],
   "source": [
    "svc = SVC(gamma='auto')\n",
    "svc.fit(X_train, y_train)\n",
    "y_pred = svc.predict(Xtest1)\n",
    "print('Classification Report: \\n')\n",
    "print(classification_report(ytest1, y_pred))"
   ]
  },
  {
   "cell_type": "code",
   "execution_count": 428,
   "metadata": {},
   "outputs": [
    {
     "name": "stdout",
     "output_type": "stream",
     "text": [
      "Classification Report: \n",
      "\n",
      "              precision    recall  f1-score   support\n",
      "\n",
      "           1       0.00      0.00      0.00      3000\n",
      "           2       0.00      0.00      0.00      3000\n",
      "           3       0.33      1.00      0.50      3000\n",
      "\n",
      "   micro avg       0.33      0.33      0.33      9000\n",
      "   macro avg       0.11      0.33      0.17      9000\n",
      "weighted avg       0.11      0.33      0.17      9000\n",
      "\n"
     ]
    }
   ],
   "source": [
    "lr = LogisticRegression(max_iter=300)\n",
    "lr.fit(X_train, y_train)\n",
    "y_pred = svc.predict(Xtest2)\n",
    "print('Classification Report: \\n')\n",
    "print(classification_report(ytest2, y_pred))"
   ]
  },
  {
   "cell_type": "code",
   "execution_count": 429,
   "metadata": {},
   "outputs": [
    {
     "name": "stdout",
     "output_type": "stream",
     "text": [
      "Classification Report: \n",
      "\n",
      "              precision    recall  f1-score   support\n",
      "\n",
      "           1       0.00      0.00      0.00      3000\n",
      "           2       0.00      0.00      0.00      3000\n",
      "           3       0.33      1.00      0.50      3000\n",
      "\n",
      "   micro avg       0.33      0.33      0.33      9000\n",
      "   macro avg       0.11      0.33      0.17      9000\n",
      "weighted avg       0.11      0.33      0.17      9000\n",
      "\n"
     ]
    }
   ],
   "source": [
    "lr = LogisticRegression(max_iter=300)\n",
    "lr.fit(X_train, y_train)\n",
    "y_pred = svc.predict(Xtest3)\n",
    "print('Classification Report: \\n')\n",
    "print(classification_report(ytest3, y_pred))"
   ]
  },
  {
   "cell_type": "code",
   "execution_count": 430,
   "metadata": {},
   "outputs": [
    {
     "name": "stdout",
     "output_type": "stream",
     "text": [
      "[3 3 3 ... 3 3 3]\n"
     ]
    }
   ],
   "source": [
    "print(y_pred)"
   ]
  },
  {
   "cell_type": "code",
   "execution_count": 431,
   "metadata": {},
   "outputs": [
    {
     "name": "stdout",
     "output_type": "stream",
     "text": [
      "[2 2 2 ... 3 3 3]\n"
     ]
    }
   ],
   "source": [
    "print(ytest1)"
   ]
  },
  {
   "cell_type": "code",
   "execution_count": 432,
   "metadata": {},
   "outputs": [
    {
     "data": {
      "text/plain": [
       "False"
      ]
     },
     "execution_count": 432,
     "metadata": {},
     "output_type": "execute_result"
    }
   ],
   "source": [
    "1 in y_pred"
   ]
  },
  {
   "cell_type": "code",
   "execution_count": 433,
   "metadata": {},
   "outputs": [
    {
     "name": "stdout",
     "output_type": "stream",
     "text": [
      "<type 'numpy.ndarray'>\n"
     ]
    }
   ],
   "source": [
    "print(type(y_pred))"
   ]
  },
  {
   "cell_type": "code",
   "execution_count": 434,
   "metadata": {},
   "outputs": [
    {
     "data": {
      "text/plain": [
       "9000"
      ]
     },
     "execution_count": 434,
     "metadata": {},
     "output_type": "execute_result"
    }
   ],
   "source": [
    "test1.shape[0]"
   ]
  }
 ],
 "metadata": {
  "kernelspec": {
   "display_name": "Python 2",
   "language": "python",
   "name": "python2"
  },
  "language_info": {
   "codemirror_mode": {
    "name": "ipython",
    "version": 2
   },
   "file_extension": ".py",
   "mimetype": "text/x-python",
   "name": "python",
   "nbconvert_exporter": "python",
   "pygments_lexer": "ipython2",
   "version": "2.7.16"
  }
 },
 "nbformat": 4,
 "nbformat_minor": 2
}
